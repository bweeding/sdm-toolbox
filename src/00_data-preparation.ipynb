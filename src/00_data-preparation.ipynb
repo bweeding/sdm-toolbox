{
 "cells": [
  {
   "cell_type": "code",
   "execution_count": 8,
   "id": "549ab52c-29cb-4015-a971-79ef2bd11938",
   "metadata": {},
   "outputs": [],
   "source": [
    "import os\n",
    "import pandas as pd "
   ]
  },
  {
   "cell_type": "code",
   "execution_count": 9,
   "id": "819964ac-66ed-4863-a522-14a9f546f45c",
   "metadata": {},
   "outputs": [],
   "source": [
    "data_path = os.path.join(os.sep, 'scratch', 'aciar-fst', 'data')\n",
    "out_path = os.path.join(os.sep, 'mnt', 'jmeijer_workspace', 'checkouts', 'aciar', 'out')\n",
    "input_path = os.path.join(out_path, 'input')\n",
    "if not os.path.exists(input_path):\n",
    "    os.makedirs(input_path)"
   ]
  },
  {
   "cell_type": "code",
   "execution_count": 10,
   "id": "3a583657-1b3a-4bdc-8053-c385b3df0e40",
   "metadata": {},
   "outputs": [],
   "source": [
    "############### CHANGE THESE TO YOUR LIKING ###############\n",
    "\n",
    "specie = 'thaumastocoris-peregrinus' #'leptocybe-invasa' # \n",
    "\n",
    "###########################################################"
   ]
  },
  {
   "cell_type": "code",
   "execution_count": 11,
   "id": "9923859c-4246-4127-a8b8-05dc507d06c2",
   "metadata": {},
   "outputs": [],
   "source": [
    "specie_path = os.path.join(data_path, 'species', specie)"
   ]
  },
  {
   "cell_type": "code",
   "execution_count": 12,
   "id": "893c0167-b8d1-4e65-a406-166b81164093",
   "metadata": {},
   "outputs": [],
   "source": [
    "if specie == 'leptocybe-invasa':\n",
    "\n",
    "    file_name_gbif = 'Gbif_L-invasa_0120814-230530130749713.csv'\n",
    "    file_name_cabi = 'Cabi_2017_L-invasa-108923.csv'\n",
    "    # file_name_eppo = 'Eppo_2010_L-invasa.csv' # presence only on state level, no coordinates\n",
    "    file_name_otieno = 'Otieno_2019_L-invasa.csv'\n",
    "    file_name_peng = 'Peng_2021_L-invasa.csv'\n",
    "    \n",
    "    gbif = pd.read_csv(os.path.join(specie_path, file_name_gbif), sep='\\t', usecols=['decimalLatitude', 'decimalLongitude', 'eventDate'])#\tday\tmonth\tyear])\n",
    "    cabi = pd.read_csv(os.path.join(specie_path, file_name_cabi), skiprows=2, usecols=['Latitude', 'Longitude', 'First Reported', 'References'], na_values='Not recorded')\n",
    "    # eppo = pd.read_csv(os.path.join(data_path, 'species', specie, file_name_eppo), usecols=['country', 'state', 'country code', 'state code', 'Status', 'continent'])\n",
    "    otieno = pd.read_csv(os.path.join(specie_path, file_name_otieno), usecols=['Lat', 'Lon'])\n",
    "    peng = pd.read_csv(os.path.join(specie_path, file_name_peng), usecols=['Lat', 'Lon', 'Date', 'Elevation (m)'])\n",
    "    \n",
    "    gbif_renamed = gbif.rename(columns={'decimalLatitude':'lat', 'decimalLongitude': 'lon', 'eventDate': 'date'})\n",
    "    gbif_renamed['source'] = 'GBIF'\n",
    "    cabi_renamed = cabi.rename(columns={'Latitude':'lat', 'Longitude': 'lon', 'First Reported': 'date'})\n",
    "    cabi_renamed['source'] = 'CABI'\n",
    "    otieno_renamed = otieno.rename(columns={'Lat':'lon', 'Lon': 'lat'})\n",
    "    otieno_renamed['source'] = 'Otieno et al. 2019'\n",
    "    peng_renamed = peng.rename(columns={'Lat':'lat', 'Lon': 'lon', 'Date': 'date'})\n",
    "    peng_renamed['source'] = 'Peng et al. 2021'\n",
    "\n",
    "    occurences_global = pd.concat([gbif_renamed, cabi_renamed, otieno_renamed, peng_renamed])"
   ]
  },
  {
   "cell_type": "code",
   "execution_count": 13,
   "id": "4122968b-3ee9-43f9-87fb-c3a0437564d7",
   "metadata": {},
   "outputs": [],
   "source": [
    "if specie == 'thaumastocoris-peregrinus':\n",
    "    \n",
    "    file_name_montemayor = 'Montemayor_2015_Thaumastocoris_peregrinus_bronze_bug_transcribed_from_SUPP2.csv'\n",
    "    file_name_cabi = 'CABI_T-peregrinus.csv'\n",
    "    file_name_gbif = 'GBIF_T-peregrinus_0026124-240321170329656.csv'\n",
    "\n",
    "    montemayor = pd.read_csv(os.path.join(specie_path, file_name_montemayor), usecols=['LATITUDE', 'LONGITUDE', 'REFERENCE'], encoding='latin1')\n",
    "    cabi = pd.read_csv(os.path.join(specie_path, file_name_cabi), usecols=['Latitude', 'Longitude', 'References'], skiprows=2)\n",
    "    gbif = pd.read_csv(os.path.join(specie_path, file_name_gbif), sep='\\t', usecols=['decimalLatitude', 'decimalLongitude', 'eventDate'])\n",
    "    \n",
    "    montemayor_renamed = montemayor.rename(columns={'LATITUDE':'lat', 'LONGITUDE': 'lon'})\n",
    "    montemayor_renamed['source'] = 'Montemayor et al. 2015'\n",
    "    cabi_renamed = cabi.rename(columns={\"Latitude\": \"lat\", \"Longitude\": \"lon\"})\n",
    "    cabi_renamed['source'] = 'CABI'\n",
    "    gbif_renamed = gbif.rename(columns={'decimalLatitude':'lat', 'decimalLongitude': 'lon', 'eventDate': 'date'})\n",
    "    gbif_renamed['source'] = 'GBIF'\n",
    "\n",
    "    occurences_global = pd.concat([montemayor_renamed, cabi_renamed, gbif_renamed])"
   ]
  },
  {
   "cell_type": "code",
   "execution_count": 14,
   "id": "b0ef8826-da74-4264-9de5-0e973300469d",
   "metadata": {},
   "outputs": [
    {
     "name": "stdout",
     "output_type": "stream",
     "text": [
      "              REFERENCE      lat       lon                  source References  \\\n",
      "0  Jacobs & Neser, 2011 -21.9212  114.1281  Montemayor et al. 2015        NaN   \n",
      "1                   NaN -33.9167  151.1667  Montemayor et al. 2015        NaN   \n",
      "2    Noack et al., 2009 -34.0276  151.0669  Montemayor et al. 2015        NaN   \n",
      "3   Noack et al.,  2011 -35.2762  149.1234  Montemayor et al. 2015        NaN   \n",
      "4                   NaN -33.7760  151.0515  Montemayor et al. 2015        NaN   \n",
      "\n",
      "  date  \n",
      "0  NaN  \n",
      "1  NaN  \n",
      "2  NaN  \n",
      "3  NaN  \n",
      "4  NaN  \n",
      "Number of occurences globally is: 979\n"
     ]
    }
   ],
   "source": [
    "print(occurences_global.head())\n",
    "print('Number of occurences globally is: %s' %len(occurences_global))\n",
    "\n",
    "# save aggregated data to file\n",
    "occurences_global.to_csv(os.path.join(specie_path, '%s_aggregated.csv' %specie))"
   ]
  },
  {
   "cell_type": "code",
   "execution_count": null,
   "id": "0101fbfe-45d8-442e-9803-bbb78f211e75",
   "metadata": {},
   "outputs": [],
   "source": []
  }
 ],
 "metadata": {
  "kernelspec": {
   "display_name": "Python [conda env:aciar]",
   "language": "python",
   "name": "conda-env-aciar-py"
  },
  "language_info": {
   "codemirror_mode": {
    "name": "ipython",
    "version": 3
   },
   "file_extension": ".py",
   "mimetype": "text/x-python",
   "name": "python",
   "nbconvert_exporter": "python",
   "pygments_lexer": "ipython3",
   "version": "3.11.6"
  }
 },
 "nbformat": 4,
 "nbformat_minor": 5
}
