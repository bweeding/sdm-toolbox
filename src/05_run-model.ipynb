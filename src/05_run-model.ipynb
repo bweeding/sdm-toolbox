{
 "cells": [
  {
   "cell_type": "markdown",
   "id": "19b15204-7112-48a4-97c4-bc90bc40550d",
   "metadata": {},
   "source": [
    "# Run Maxent model"
   ]
  },
  {
   "cell_type": "code",
   "execution_count": 1,
   "id": "70d7b778-d906-49be-86c9-9759448f7d51",
   "metadata": {},
   "outputs": [],
   "source": [
    "############### CHANGE THESE TO YOUR LIKING ###############\n",
    "\n",
    "specie = 'leptocybe-invasa' # 'thaumastocoris-peregrinus' # 'leptocybe-invasa' # \n",
    "pseudoabsence = 'random' # 'biased-land-cover' # 'biased' # 'random' # \n",
    "training = 'east-asia'# 'australia' # \n",
    "interest = 'south-east-asia'\n",
    "bioclim = [i for i in range(1,20)] # [1, 5, 6, 12, 13, 14] # [1, 16, 6, 11] # [10, 16, 14] # [1,2,6,11,13,15,16] #\n",
    "topo = True\n",
    "savefig = False\n",
    "\n",
    "###########################################################"
   ]
  },
  {
   "cell_type": "code",
   "execution_count": 2,
   "id": "0d412007-8c3c-4d88-b041-99f47ef4ebc6",
   "metadata": {},
   "outputs": [],
   "source": [
    "import os\n",
    "\n",
    "import math\n",
    "import numpy as np\n",
    "\n",
    "import xarray as xr\n",
    "import rioxarray as rioxr\n",
    "import pandas as pd\n",
    "import geopandas as gpd\n",
    "\n",
    "import elapid as ela\n",
    "from sklearn import metrics, inspection\n",
    "\n",
    "import matplotlib.pyplot as plt\n",
    "import matplotlib.colors as mcolors\n",
    "\n",
    "import warnings\n",
    "warnings.filterwarnings(\"ignore\")\n",
    "\n",
    "params = {'legend.fontsize': 'x-large',\n",
    "         'axes.labelsize': 'x-large',\n",
    "         'axes.titlesize':'x-large',\n",
    "         'xtick.labelsize':'x-large',\n",
    "         'ytick.labelsize':'x-large'}\n",
    "plt.rcParams.update(params)"
   ]
  },
  {
   "cell_type": "code",
   "execution_count": 3,
   "id": "2f6557f1-586b-4229-babf-5135b0e90569",
   "metadata": {},
   "outputs": [],
   "source": [
    "def subplot_layout(nplots):\n",
    "\n",
    "    ncols = min(int(np.ceil(np.sqrt(nplots))), 4)\n",
    "    nrows = int(np.ceil(nplots / ncols))\n",
    "    \n",
    "    return ncols, nrows"
   ]
  },
  {
   "cell_type": "code",
   "execution_count": 4,
   "id": "163c5c92-7ef0-4dce-bd31-a2cc9fef5eb4",
   "metadata": {},
   "outputs": [],
   "source": [
    "# data_path = os.path.join(os.sep, 'scratch', 'aciar-fst', 'data')\n",
    "data_path = os.path.join(os.path.dirname(os.getcwd()), 'data')\n",
    "figs_path = os.path.join(os.path.dirname(os.getcwd()), 'figs')\n",
    "docs_path = os.path.join(os.path.dirname(os.getcwd()), 'docs')\n",
    "out_path = os.path.join(os.path.dirname(os.getcwd()), 'out', specie)\n",
    "input_path = os.path.join(out_path, 'input')\n",
    "train_path = os.path.join(input_path, 'train')\n",
    "test_path = os.path.join(input_path, 'test')\n",
    "output_path = os.path.join(out_path, 'output')\n",
    "if not os.path.exists(output_path):\n",
    "    os.makedirs(output_path)"
   ]
  },
  {
   "cell_type": "markdown",
   "id": "90f19209-7f3b-409d-b4e7-d7a98dac6591",
   "metadata": {},
   "source": [
    "Load shapefiles of training and test regions"
   ]
  },
  {
   "cell_type": "code",
   "execution_count": 5,
   "id": "78573035-d8c3-4e4a-b5b5-0d0dec559050",
   "metadata": {},
   "outputs": [],
   "source": [
    "# select and combine countries in one dataframe\n",
    "gdf_countries = {}\n",
    "for region in [training, interest]:\n",
    "    file_path = train_path if region == training else test_path\n",
    "    gdf_countries[region] = gpd.read_file(os.path.join(file_path, '%s.shp' %region))"
   ]
  },
  {
   "cell_type": "markdown",
   "id": "eef7a900-85cd-41d4-87e6-7179c9320233",
   "metadata": {},
   "source": [
    "## 1. Train model for region of specie occurences"
   ]
  },
  {
   "cell_type": "markdown",
   "id": "d2a59e2f-1490-4a88-9e39-92bbd8d76c7f",
   "metadata": {},
   "source": [
    "### 1.1 load predictive variable data"
   ]
  },
  {
   "cell_type": "code",
   "execution_count": 6,
   "id": "9e425b37-7c46-4d47-9adf-6de927cc88a7",
   "metadata": {},
   "outputs": [],
   "source": [
    "rasters, labels = (['srtm_%s.tif' %training], ['srtm']) if topo else ([], []) # 'ndvi_east-asia.tif', 'ndvi' # \n",
    "\n",
    "for no in bioclim:\n",
    "    rasters.append('wc2.1_10m_bio_%s_%s.tif' %(no, training))\n",
    "    labels.append('bioclim_%02d' %no)\n",
    "\n",
    "raster_paths = [os.path.join(input_path, 'train', raster) for raster in rasters]\n",
    "# rasters, raster_paths, labels\n",
    "\n",
    "# initialise dataset for model output\n",
    "training_output = xr.Dataset()\n",
    "for raster, label in zip(raster_paths, labels):\n",
    "    da = rioxr.open_rasterio(raster, masked=True)\n",
    "    training_output[label] = da"
   ]
  },
  {
   "cell_type": "markdown",
   "id": "128d49fd-4f91-411c-8ad4-90c0f202894f",
   "metadata": {},
   "source": [
    "### 1.2 load and merge presence and background data"
   ]
  },
  {
   "cell_type": "code",
   "execution_count": 7,
   "id": "be8ba83f-5574-4abf-8515-fe905117d5a9",
   "metadata": {},
   "outputs": [],
   "source": [
    "presence_file_name = '%s_presence_%s.csv' %(specie, training)\n",
    "background_file_name = '%s_background_%s_%s.csv' %(specie, pseudoabsence, training)\n",
    "train_input_data_name = 'model-train_input-data_%s_%s_%s.csv' %(specie, pseudoabsence, training)\n",
    "\n",
    "presence_csv = pd.read_csv(os.path.join(input_path, 'train', presence_file_name))\n",
    "geometry = gpd.points_from_xy(presence_csv['lon'], presence_csv['lat'])\n",
    "presence_gdf = gpd.GeoDataFrame(geometry=geometry, crs='EPSG:4326')\n",
    "\n",
    "background_csv = pd.read_csv(os.path.join(input_path, 'train', background_file_name))\n",
    "geometry = gpd.points_from_xy(background_csv['lon'], background_csv['lat'])\n",
    "background_gdf = gpd.GeoDataFrame(geometry=geometry, crs='EPSG:4326')"
   ]
  },
  {
   "cell_type": "code",
   "execution_count": 8,
   "id": "5a1cc7b4-b97d-45cc-9843-a0c2025572ab",
   "metadata": {},
   "outputs": [
    {
     "data": {
      "application/vnd.jupyter.widget-view+json": {
       "model_id": "b94480a6a5024229af4fc09b407ad7e7",
       "version_major": 2,
       "version_minor": 0
      },
      "text/plain": [
       "Raster:   0%|                              | 0/20 [00:00<?, ?it/s]"
      ]
     },
     "metadata": {},
     "output_type": "display_data"
    },
    {
     "data": {
      "application/vnd.jupyter.widget-view+json": {
       "model_id": "88bbc28a53f343b28a3fd04c8085ce2f",
       "version_major": 2,
       "version_minor": 0
      },
      "text/plain": [
       "Sample:   0%|                              | 0/36 [00:00<?, ?it/s]"
      ]
     },
     "metadata": {},
     "output_type": "display_data"
    },
    {
     "data": {
      "application/vnd.jupyter.widget-view+json": {
       "model_id": "b5d3b4346e1b467a980264238d0fe446",
       "version_major": 2,
       "version_minor": 0
      },
      "text/plain": [
       "Sample:   0%|                              | 0/36 [00:00<?, ?it/s]"
      ]
     },
     "metadata": {},
     "output_type": "display_data"
    },
    {
     "data": {
      "application/vnd.jupyter.widget-view+json": {
       "model_id": "889f86951c8d413d9e648817e5774f7e",
       "version_major": 2,
       "version_minor": 0
      },
      "text/plain": [
       "Sample:   0%|                              | 0/36 [00:00<?, ?it/s]"
      ]
     },
     "metadata": {},
     "output_type": "display_data"
    },
    {
     "data": {
      "application/vnd.jupyter.widget-view+json": {
       "model_id": "f7e67fb3b4414f06b7cfb3abb59b50c4",
       "version_major": 2,
       "version_minor": 0
      },
      "text/plain": [
       "Sample:   0%|                              | 0/36 [00:00<?, ?it/s]"
      ]
     },
     "metadata": {},
     "output_type": "display_data"
    },
    {
     "data": {
      "application/vnd.jupyter.widget-view+json": {
       "model_id": "96a572b9ecb24ea6b1644fd53e04b642",
       "version_major": 2,
       "version_minor": 0
      },
      "text/plain": [
       "Sample:   0%|                              | 0/36 [00:00<?, ?it/s]"
      ]
     },
     "metadata": {},
     "output_type": "display_data"
    },
    {
     "data": {
      "application/vnd.jupyter.widget-view+json": {
       "model_id": "434cbc2fed774b42ad222f112ee2f22b",
       "version_major": 2,
       "version_minor": 0
      },
      "text/plain": [
       "Sample:   0%|                              | 0/36 [00:00<?, ?it/s]"
      ]
     },
     "metadata": {},
     "output_type": "display_data"
    },
    {
     "data": {
      "application/vnd.jupyter.widget-view+json": {
       "model_id": "f611d72320664cfda68a0889575c00b6",
       "version_major": 2,
       "version_minor": 0
      },
      "text/plain": [
       "Sample:   0%|                              | 0/36 [00:00<?, ?it/s]"
      ]
     },
     "metadata": {},
     "output_type": "display_data"
    },
    {
     "data": {
      "application/vnd.jupyter.widget-view+json": {
       "model_id": "915c573f31fc4c6493878bb29e140ef5",
       "version_major": 2,
       "version_minor": 0
      },
      "text/plain": [
       "Sample:   0%|                              | 0/36 [00:00<?, ?it/s]"
      ]
     },
     "metadata": {},
     "output_type": "display_data"
    },
    {
     "data": {
      "application/vnd.jupyter.widget-view+json": {
       "model_id": "199aca2bd43343549236070f89e85e36",
       "version_major": 2,
       "version_minor": 0
      },
      "text/plain": [
       "Sample:   0%|                              | 0/36 [00:00<?, ?it/s]"
      ]
     },
     "metadata": {},
     "output_type": "display_data"
    },
    {
     "data": {
      "application/vnd.jupyter.widget-view+json": {
       "model_id": "d1a3dd39a1df48eb82eb26f1ada8d542",
       "version_major": 2,
       "version_minor": 0
      },
      "text/plain": [
       "Sample:   0%|                              | 0/36 [00:00<?, ?it/s]"
      ]
     },
     "metadata": {},
     "output_type": "display_data"
    },
    {
     "data": {
      "application/vnd.jupyter.widget-view+json": {
       "model_id": "3c605cc4b19c46b49319b59b956e4429",
       "version_major": 2,
       "version_minor": 0
      },
      "text/plain": [
       "Sample:   0%|                              | 0/36 [00:00<?, ?it/s]"
      ]
     },
     "metadata": {},
     "output_type": "display_data"
    },
    {
     "data": {
      "application/vnd.jupyter.widget-view+json": {
       "model_id": "6ad4c3a35ae94fe4b05ecc73d685a80b",
       "version_major": 2,
       "version_minor": 0
      },
      "text/plain": [
       "Sample:   0%|                              | 0/36 [00:00<?, ?it/s]"
      ]
     },
     "metadata": {},
     "output_type": "display_data"
    },
    {
     "data": {
      "application/vnd.jupyter.widget-view+json": {
       "model_id": "63fc3a6a2d944f7d8497a1ebc879ee2d",
       "version_major": 2,
       "version_minor": 0
      },
      "text/plain": [
       "Sample:   0%|                              | 0/36 [00:00<?, ?it/s]"
      ]
     },
     "metadata": {},
     "output_type": "display_data"
    },
    {
     "data": {
      "application/vnd.jupyter.widget-view+json": {
       "model_id": "5299a51c9dbd4c75b1ff98aff157f6ec",
       "version_major": 2,
       "version_minor": 0
      },
      "text/plain": [
       "Sample:   0%|                              | 0/36 [00:00<?, ?it/s]"
      ]
     },
     "metadata": {},
     "output_type": "display_data"
    },
    {
     "data": {
      "application/vnd.jupyter.widget-view+json": {
       "model_id": "2b7ce3a15c574ddba88651f5d84d21aa",
       "version_major": 2,
       "version_minor": 0
      },
      "text/plain": [
       "Sample:   0%|                              | 0/36 [00:00<?, ?it/s]"
      ]
     },
     "metadata": {},
     "output_type": "display_data"
    },
    {
     "data": {
      "application/vnd.jupyter.widget-view+json": {
       "model_id": "b6f241a080254fe4b63b1306a9b5a60f",
       "version_major": 2,
       "version_minor": 0
      },
      "text/plain": [
       "Sample:   0%|                              | 0/36 [00:00<?, ?it/s]"
      ]
     },
     "metadata": {},
     "output_type": "display_data"
    },
    {
     "data": {
      "application/vnd.jupyter.widget-view+json": {
       "model_id": "73365670240042c6b554fb816edae690",
       "version_major": 2,
       "version_minor": 0
      },
      "text/plain": [
       "Sample:   0%|                              | 0/36 [00:00<?, ?it/s]"
      ]
     },
     "metadata": {},
     "output_type": "display_data"
    },
    {
     "data": {
      "application/vnd.jupyter.widget-view+json": {
       "model_id": "d74569c90dd84e34814d345c71b70bd7",
       "version_major": 2,
       "version_minor": 0
      },
      "text/plain": [
       "Sample:   0%|                              | 0/36 [00:00<?, ?it/s]"
      ]
     },
     "metadata": {},
     "output_type": "display_data"
    },
    {
     "data": {
      "application/vnd.jupyter.widget-view+json": {
       "model_id": "4ca90a7192144fc5bdda73781c0d6f18",
       "version_major": 2,
       "version_minor": 0
      },
      "text/plain": [
       "Sample:   0%|                              | 0/36 [00:00<?, ?it/s]"
      ]
     },
     "metadata": {},
     "output_type": "display_data"
    },
    {
     "data": {
      "application/vnd.jupyter.widget-view+json": {
       "model_id": "2b05ee369f024ab0ac43d25c47ab123d",
       "version_major": 2,
       "version_minor": 0
      },
      "text/plain": [
       "Sample:   0%|                              | 0/36 [00:00<?, ?it/s]"
      ]
     },
     "metadata": {},
     "output_type": "display_data"
    },
    {
     "data": {
      "application/vnd.jupyter.widget-view+json": {
       "model_id": "502da10907f343e4855c7183ee0301ed",
       "version_major": 2,
       "version_minor": 0
      },
      "text/plain": [
       "Raster:   0%|                              | 0/20 [00:00<?, ?it/s]"
      ]
     },
     "metadata": {},
     "output_type": "display_data"
    },
    {
     "data": {
      "application/vnd.jupyter.widget-view+json": {
       "model_id": "1f62c50f946846d5b5185368164a11c7",
       "version_major": 2,
       "version_minor": 0
      },
      "text/plain": [
       "Sample:   0%|                              | 0/10000 [00:00<?, ?it/s]"
      ]
     },
     "metadata": {},
     "output_type": "display_data"
    },
    {
     "data": {
      "application/vnd.jupyter.widget-view+json": {
       "model_id": "71c41ec3e78f423594b3a037c43e5538",
       "version_major": 2,
       "version_minor": 0
      },
      "text/plain": [
       "Sample:   0%|                              | 0/10000 [00:00<?, ?it/s]"
      ]
     },
     "metadata": {},
     "output_type": "display_data"
    },
    {
     "data": {
      "application/vnd.jupyter.widget-view+json": {
       "model_id": "8ec9a528270543169a83f6f82c990885",
       "version_major": 2,
       "version_minor": 0
      },
      "text/plain": [
       "Sample:   0%|                              | 0/10000 [00:00<?, ?it/s]"
      ]
     },
     "metadata": {},
     "output_type": "display_data"
    },
    {
     "data": {
      "application/vnd.jupyter.widget-view+json": {
       "model_id": "ff034d872a3c42ab85075242260552f1",
       "version_major": 2,
       "version_minor": 0
      },
      "text/plain": [
       "Sample:   0%|                              | 0/10000 [00:00<?, ?it/s]"
      ]
     },
     "metadata": {},
     "output_type": "display_data"
    },
    {
     "data": {
      "application/vnd.jupyter.widget-view+json": {
       "model_id": "2d05bcd9b0c7425a9d9a15f0bed6e513",
       "version_major": 2,
       "version_minor": 0
      },
      "text/plain": [
       "Sample:   0%|                              | 0/10000 [00:00<?, ?it/s]"
      ]
     },
     "metadata": {},
     "output_type": "display_data"
    },
    {
     "data": {
      "application/vnd.jupyter.widget-view+json": {
       "model_id": "4623aa181f904fe1b14c1ed7f5dea0d4",
       "version_major": 2,
       "version_minor": 0
      },
      "text/plain": [
       "Sample:   0%|                              | 0/10000 [00:00<?, ?it/s]"
      ]
     },
     "metadata": {},
     "output_type": "display_data"
    },
    {
     "data": {
      "application/vnd.jupyter.widget-view+json": {
       "model_id": "a79cdc957e924716856204f86b3c4d31",
       "version_major": 2,
       "version_minor": 0
      },
      "text/plain": [
       "Sample:   0%|                              | 0/10000 [00:00<?, ?it/s]"
      ]
     },
     "metadata": {},
     "output_type": "display_data"
    },
    {
     "data": {
      "application/vnd.jupyter.widget-view+json": {
       "model_id": "e724331bfd9246999a4bd952e1438892",
       "version_major": 2,
       "version_minor": 0
      },
      "text/plain": [
       "Sample:   0%|                              | 0/10000 [00:00<?, ?it/s]"
      ]
     },
     "metadata": {},
     "output_type": "display_data"
    },
    {
     "data": {
      "application/vnd.jupyter.widget-view+json": {
       "model_id": "1bdcc6d4d3cf4acbb9f44e12a25f4f0c",
       "version_major": 2,
       "version_minor": 0
      },
      "text/plain": [
       "Sample:   0%|                              | 0/10000 [00:00<?, ?it/s]"
      ]
     },
     "metadata": {},
     "output_type": "display_data"
    },
    {
     "data": {
      "application/vnd.jupyter.widget-view+json": {
       "model_id": "17ff3aae12a64119b4ce19ddf00c348a",
       "version_major": 2,
       "version_minor": 0
      },
      "text/plain": [
       "Sample:   0%|                              | 0/10000 [00:00<?, ?it/s]"
      ]
     },
     "metadata": {},
     "output_type": "display_data"
    },
    {
     "data": {
      "application/vnd.jupyter.widget-view+json": {
       "model_id": "31f1315b611749b798a8978675d695cc",
       "version_major": 2,
       "version_minor": 0
      },
      "text/plain": [
       "Sample:   0%|                              | 0/10000 [00:00<?, ?it/s]"
      ]
     },
     "metadata": {},
     "output_type": "display_data"
    },
    {
     "data": {
      "application/vnd.jupyter.widget-view+json": {
       "model_id": "56da6b63cbe8424eb7bd77005ae180a8",
       "version_major": 2,
       "version_minor": 0
      },
      "text/plain": [
       "Sample:   0%|                              | 0/10000 [00:00<?, ?it/s]"
      ]
     },
     "metadata": {},
     "output_type": "display_data"
    },
    {
     "data": {
      "application/vnd.jupyter.widget-view+json": {
       "model_id": "b1602f16fc12498c9a977e91b5cb4bca",
       "version_major": 2,
       "version_minor": 0
      },
      "text/plain": [
       "Sample:   0%|                              | 0/10000 [00:00<?, ?it/s]"
      ]
     },
     "metadata": {},
     "output_type": "display_data"
    },
    {
     "data": {
      "application/vnd.jupyter.widget-view+json": {
       "model_id": "42d0ca160ed24316bb266182635dbb9a",
       "version_major": 2,
       "version_minor": 0
      },
      "text/plain": [
       "Sample:   0%|                              | 0/10000 [00:00<?, ?it/s]"
      ]
     },
     "metadata": {},
     "output_type": "display_data"
    },
    {
     "data": {
      "application/vnd.jupyter.widget-view+json": {
       "model_id": "76ed77174dce44b1bf5f8976b50ecb95",
       "version_major": 2,
       "version_minor": 0
      },
      "text/plain": [
       "Sample:   0%|                              | 0/10000 [00:00<?, ?it/s]"
      ]
     },
     "metadata": {},
     "output_type": "display_data"
    },
    {
     "data": {
      "application/vnd.jupyter.widget-view+json": {
       "model_id": "8dba4e0ced8f4c09b5dde0f969525eab",
       "version_major": 2,
       "version_minor": 0
      },
      "text/plain": [
       "Sample:   0%|                              | 0/10000 [00:00<?, ?it/s]"
      ]
     },
     "metadata": {},
     "output_type": "display_data"
    },
    {
     "data": {
      "application/vnd.jupyter.widget-view+json": {
       "model_id": "ef25774e5beb4113b90a5abc60ad477d",
       "version_major": 2,
       "version_minor": 0
      },
      "text/plain": [
       "Sample:   0%|                              | 0/10000 [00:00<?, ?it/s]"
      ]
     },
     "metadata": {},
     "output_type": "display_data"
    },
    {
     "data": {
      "application/vnd.jupyter.widget-view+json": {
       "model_id": "0279efb50b5b4fa5965b04143309b974",
       "version_major": 2,
       "version_minor": 0
      },
      "text/plain": [
       "Sample:   0%|                              | 0/10000 [00:00<?, ?it/s]"
      ]
     },
     "metadata": {},
     "output_type": "display_data"
    },
    {
     "data": {
      "application/vnd.jupyter.widget-view+json": {
       "model_id": "14ef1ecb24244070bad7990d0ae62d1c",
       "version_major": 2,
       "version_minor": 0
      },
      "text/plain": [
       "Sample:   0%|                              | 0/10000 [00:00<?, ?it/s]"
      ]
     },
     "metadata": {},
     "output_type": "display_data"
    },
    {
     "data": {
      "application/vnd.jupyter.widget-view+json": {
       "model_id": "83ff3ecbd08d470cb760e43e7dc419e9",
       "version_major": 2,
       "version_minor": 0
      },
      "text/plain": [
       "Sample:   0%|                              | 0/10000 [00:00<?, ?it/s]"
      ]
     },
     "metadata": {},
     "output_type": "display_data"
    }
   ],
   "source": [
    "presence_train = ela.annotate(\n",
    "    presence_gdf.geometry,\n",
    "    raster_paths=raster_paths, \n",
    "    labels=labels, \n",
    "    drop_na=True,\n",
    ")\n",
    "\n",
    "background_train = ela.annotate(\n",
    "    background_gdf, #pseudoabsence_random, pseudoabsence_bias_eucalyptus, #pseudoabsence_bias_perc_planted\n",
    "    raster_paths=raster_paths, \n",
    "    labels=labels, \n",
    "    drop_na=True,\n",
    ")\n",
    "\n",
    "train = ela.stack_geodataframes(\n",
    "    presence_train,\n",
    "    background_train,\n",
    "    add_class_label=True,\n",
    ")"
   ]
  },
  {
   "cell_type": "code",
   "execution_count": 9,
   "id": "6ccc0b43-7772-427f-9ac5-54d542a03b6f",
   "metadata": {},
   "outputs": [
    {
     "data": {
      "text/html": [
       "<div>\n",
       "<style scoped>\n",
       "    .dataframe tbody tr th:only-of-type {\n",
       "        vertical-align: middle;\n",
       "    }\n",
       "\n",
       "    .dataframe tbody tr th {\n",
       "        vertical-align: top;\n",
       "    }\n",
       "\n",
       "    .dataframe thead th {\n",
       "        text-align: right;\n",
       "    }\n",
       "</style>\n",
       "<table border=\"1\" class=\"dataframe\">\n",
       "  <thead>\n",
       "    <tr style=\"text-align: right;\">\n",
       "      <th></th>\n",
       "      <th>srtm</th>\n",
       "      <th>bioclim_01</th>\n",
       "      <th>bioclim_02</th>\n",
       "      <th>bioclim_03</th>\n",
       "      <th>bioclim_04</th>\n",
       "      <th>bioclim_05</th>\n",
       "      <th>bioclim_06</th>\n",
       "      <th>bioclim_07</th>\n",
       "      <th>bioclim_08</th>\n",
       "      <th>bioclim_09</th>\n",
       "      <th>...</th>\n",
       "      <th>bioclim_11</th>\n",
       "      <th>bioclim_12</th>\n",
       "      <th>bioclim_13</th>\n",
       "      <th>bioclim_14</th>\n",
       "      <th>bioclim_15</th>\n",
       "      <th>bioclim_16</th>\n",
       "      <th>bioclim_17</th>\n",
       "      <th>bioclim_18</th>\n",
       "      <th>bioclim_19</th>\n",
       "      <th>class</th>\n",
       "    </tr>\n",
       "  </thead>\n",
       "  <tbody>\n",
       "    <tr>\n",
       "      <th>count</th>\n",
       "      <td>9939.000000</td>\n",
       "      <td>9939.000000</td>\n",
       "      <td>9939.000000</td>\n",
       "      <td>9939.000000</td>\n",
       "      <td>9939.000000</td>\n",
       "      <td>9939.000000</td>\n",
       "      <td>9939.00000</td>\n",
       "      <td>9939.000000</td>\n",
       "      <td>9939.000000</td>\n",
       "      <td>9939.000000</td>\n",
       "      <td>...</td>\n",
       "      <td>9939.000000</td>\n",
       "      <td>9939.000000</td>\n",
       "      <td>9939.000000</td>\n",
       "      <td>9939.000000</td>\n",
       "      <td>9939.000000</td>\n",
       "      <td>9939.000000</td>\n",
       "      <td>9939.000000</td>\n",
       "      <td>9939.000000</td>\n",
       "      <td>9939.000000</td>\n",
       "      <td>9939.000000</td>\n",
       "    </tr>\n",
       "    <tr>\n",
       "      <th>mean</th>\n",
       "      <td>1677.883892</td>\n",
       "      <td>6.459000</td>\n",
       "      <td>11.418654</td>\n",
       "      <td>30.485964</td>\n",
       "      <td>1020.602576</td>\n",
       "      <td>24.775531</td>\n",
       "      <td>-13.77382</td>\n",
       "      <td>38.868095</td>\n",
       "      <td>17.345206</td>\n",
       "      <td>-4.772311</td>\n",
       "      <td>...</td>\n",
       "      <td>-6.166717</td>\n",
       "      <td>623.709830</td>\n",
       "      <td>128.388872</td>\n",
       "      <td>10.683670</td>\n",
       "      <td>87.164805</td>\n",
       "      <td>327.538183</td>\n",
       "      <td>39.221451</td>\n",
       "      <td>310.038837</td>\n",
       "      <td>44.274575</td>\n",
       "      <td>0.003421</td>\n",
       "    </tr>\n",
       "    <tr>\n",
       "      <th>std</th>\n",
       "      <td>1665.066908</td>\n",
       "      <td>7.339413</td>\n",
       "      <td>2.755024</td>\n",
       "      <td>6.332448</td>\n",
       "      <td>307.701305</td>\n",
       "      <td>6.985237</td>\n",
       "      <td>10.71728</td>\n",
       "      <td>9.669868</td>\n",
       "      <td>7.017477</td>\n",
       "      <td>9.557116</td>\n",
       "      <td>...</td>\n",
       "      <td>9.291173</td>\n",
       "      <td>532.949727</td>\n",
       "      <td>91.561655</td>\n",
       "      <td>16.709423</td>\n",
       "      <td>24.136344</td>\n",
       "      <td>240.805394</td>\n",
       "      <td>58.452394</td>\n",
       "      <td>220.542119</td>\n",
       "      <td>68.207070</td>\n",
       "      <td>0.058391</td>\n",
       "    </tr>\n",
       "    <tr>\n",
       "      <th>min</th>\n",
       "      <td>-88.000000</td>\n",
       "      <td>-16.000000</td>\n",
       "      <td>4.000000</td>\n",
       "      <td>17.000000</td>\n",
       "      <td>283.000000</td>\n",
       "      <td>2.000000</td>\n",
       "      <td>-36.00000</td>\n",
       "      <td>14.000000</td>\n",
       "      <td>-14.000000</td>\n",
       "      <td>-26.000000</td>\n",
       "      <td>...</td>\n",
       "      <td>-27.000000</td>\n",
       "      <td>13.000000</td>\n",
       "      <td>4.000000</td>\n",
       "      <td>0.000000</td>\n",
       "      <td>19.000000</td>\n",
       "      <td>9.000000</td>\n",
       "      <td>0.000000</td>\n",
       "      <td>9.000000</td>\n",
       "      <td>0.000000</td>\n",
       "      <td>0.000000</td>\n",
       "    </tr>\n",
       "    <tr>\n",
       "      <th>25%</th>\n",
       "      <td>388.500000</td>\n",
       "      <td>0.000000</td>\n",
       "      <td>10.000000</td>\n",
       "      <td>26.000000</td>\n",
       "      <td>796.000000</td>\n",
       "      <td>21.000000</td>\n",
       "      <td>-22.00000</td>\n",
       "      <td>31.000000</td>\n",
       "      <td>14.000000</td>\n",
       "      <td>-12.000000</td>\n",
       "      <td>...</td>\n",
       "      <td>-13.000000</td>\n",
       "      <td>188.000000</td>\n",
       "      <td>44.000000</td>\n",
       "      <td>1.000000</td>\n",
       "      <td>68.000000</td>\n",
       "      <td>110.000000</td>\n",
       "      <td>6.000000</td>\n",
       "      <td>105.000000</td>\n",
       "      <td>6.000000</td>\n",
       "      <td>0.000000</td>\n",
       "    </tr>\n",
       "    <tr>\n",
       "      <th>50%</th>\n",
       "      <td>1049.000000</td>\n",
       "      <td>6.000000</td>\n",
       "      <td>12.000000</td>\n",
       "      <td>29.000000</td>\n",
       "      <td>970.000000</td>\n",
       "      <td>27.000000</td>\n",
       "      <td>-16.00000</td>\n",
       "      <td>39.000000</td>\n",
       "      <td>19.000000</td>\n",
       "      <td>-6.000000</td>\n",
       "      <td>...</td>\n",
       "      <td>-7.000000</td>\n",
       "      <td>489.000000</td>\n",
       "      <td>127.000000</td>\n",
       "      <td>3.000000</td>\n",
       "      <td>91.000000</td>\n",
       "      <td>317.000000</td>\n",
       "      <td>14.000000</td>\n",
       "      <td>312.000000</td>\n",
       "      <td>14.000000</td>\n",
       "      <td>0.000000</td>\n",
       "    </tr>\n",
       "    <tr>\n",
       "      <th>75%</th>\n",
       "      <td>2600.000000</td>\n",
       "      <td>12.000000</td>\n",
       "      <td>13.000000</td>\n",
       "      <td>34.000000</td>\n",
       "      <td>1256.000000</td>\n",
       "      <td>30.000000</td>\n",
       "      <td>-4.00000</td>\n",
       "      <td>47.000000</td>\n",
       "      <td>22.000000</td>\n",
       "      <td>3.000000</td>\n",
       "      <td>...</td>\n",
       "      <td>1.000000</td>\n",
       "      <td>938.000000</td>\n",
       "      <td>187.000000</td>\n",
       "      <td>12.000000</td>\n",
       "      <td>105.000000</td>\n",
       "      <td>470.000000</td>\n",
       "      <td>44.000000</td>\n",
       "      <td>450.000000</td>\n",
       "      <td>48.000000</td>\n",
       "      <td>0.000000</td>\n",
       "    </tr>\n",
       "    <tr>\n",
       "      <th>max</th>\n",
       "      <td>6251.000000</td>\n",
       "      <td>25.000000</td>\n",
       "      <td>18.000000</td>\n",
       "      <td>53.000000</td>\n",
       "      <td>1747.000000</td>\n",
       "      <td>41.000000</td>\n",
       "      <td>17.00000</td>\n",
       "      <td>61.000000</td>\n",
       "      <td>31.000000</td>\n",
       "      <td>22.000000</td>\n",
       "      <td>...</td>\n",
       "      <td>21.000000</td>\n",
       "      <td>3430.000000</td>\n",
       "      <td>783.000000</td>\n",
       "      <td>183.000000</td>\n",
       "      <td>150.000000</td>\n",
       "      <td>2024.000000</td>\n",
       "      <td>579.000000</td>\n",
       "      <td>2024.000000</td>\n",
       "      <td>699.000000</td>\n",
       "      <td>1.000000</td>\n",
       "    </tr>\n",
       "  </tbody>\n",
       "</table>\n",
       "<p>8 rows × 21 columns</p>\n",
       "</div>"
      ],
      "text/plain": [
       "              srtm   bioclim_01   bioclim_02   bioclim_03   bioclim_04  \\\n",
       "count  9939.000000  9939.000000  9939.000000  9939.000000  9939.000000   \n",
       "mean   1677.883892     6.459000    11.418654    30.485964  1020.602576   \n",
       "std    1665.066908     7.339413     2.755024     6.332448   307.701305   \n",
       "min     -88.000000   -16.000000     4.000000    17.000000   283.000000   \n",
       "25%     388.500000     0.000000    10.000000    26.000000   796.000000   \n",
       "50%    1049.000000     6.000000    12.000000    29.000000   970.000000   \n",
       "75%    2600.000000    12.000000    13.000000    34.000000  1256.000000   \n",
       "max    6251.000000    25.000000    18.000000    53.000000  1747.000000   \n",
       "\n",
       "        bioclim_05  bioclim_06   bioclim_07   bioclim_08   bioclim_09  ...  \\\n",
       "count  9939.000000  9939.00000  9939.000000  9939.000000  9939.000000  ...   \n",
       "mean     24.775531   -13.77382    38.868095    17.345206    -4.772311  ...   \n",
       "std       6.985237    10.71728     9.669868     7.017477     9.557116  ...   \n",
       "min       2.000000   -36.00000    14.000000   -14.000000   -26.000000  ...   \n",
       "25%      21.000000   -22.00000    31.000000    14.000000   -12.000000  ...   \n",
       "50%      27.000000   -16.00000    39.000000    19.000000    -6.000000  ...   \n",
       "75%      30.000000    -4.00000    47.000000    22.000000     3.000000  ...   \n",
       "max      41.000000    17.00000    61.000000    31.000000    22.000000  ...   \n",
       "\n",
       "        bioclim_11   bioclim_12   bioclim_13   bioclim_14   bioclim_15  \\\n",
       "count  9939.000000  9939.000000  9939.000000  9939.000000  9939.000000   \n",
       "mean     -6.166717   623.709830   128.388872    10.683670    87.164805   \n",
       "std       9.291173   532.949727    91.561655    16.709423    24.136344   \n",
       "min     -27.000000    13.000000     4.000000     0.000000    19.000000   \n",
       "25%     -13.000000   188.000000    44.000000     1.000000    68.000000   \n",
       "50%      -7.000000   489.000000   127.000000     3.000000    91.000000   \n",
       "75%       1.000000   938.000000   187.000000    12.000000   105.000000   \n",
       "max      21.000000  3430.000000   783.000000   183.000000   150.000000   \n",
       "\n",
       "        bioclim_16   bioclim_17   bioclim_18   bioclim_19        class  \n",
       "count  9939.000000  9939.000000  9939.000000  9939.000000  9939.000000  \n",
       "mean    327.538183    39.221451   310.038837    44.274575     0.003421  \n",
       "std     240.805394    58.452394   220.542119    68.207070     0.058391  \n",
       "min       9.000000     0.000000     9.000000     0.000000     0.000000  \n",
       "25%     110.000000     6.000000   105.000000     6.000000     0.000000  \n",
       "50%     317.000000    14.000000   312.000000    14.000000     0.000000  \n",
       "75%     470.000000    44.000000   450.000000    48.000000     0.000000  \n",
       "max    2024.000000   579.000000  2024.000000   699.000000     1.000000  \n",
       "\n",
       "[8 rows x 21 columns]"
      ]
     },
     "execution_count": 9,
     "metadata": {},
     "output_type": "execute_result"
    }
   ],
   "source": [
    "train.describe()"
   ]
  },
  {
   "cell_type": "markdown",
   "id": "b66728b4-87b4-4ce7-acd8-79cac73690d3",
   "metadata": {},
   "source": [
    "### 1.3 run model"
   ]
  },
  {
   "cell_type": "code",
   "execution_count": 10,
   "id": "75d0a717-0fa9-4520-9d29-bcd8b49d973a",
   "metadata": {},
   "outputs": [],
   "source": [
    "experiment_name = 'exp_%s_%s_%s' %(pseudoabsence, training, interest)\n",
    "run_name = 'model-train_%s_%s_%s.ela' %(specie, pseudoabsence, training)\n",
    "nc_name = 'model-train_%s_%s_%s.nc' %(specie, pseudoabsence, training)\n",
    "raster_name = 'model-train_%s_%s_%s.tif' %(specie, pseudoabsence, training)\n",
    "\n",
    "exp_path = os.path.join(output_path, experiment_name)\n",
    "if not os.path.exists(exp_path):\n",
    "    os.makedirs(exp_path)"
   ]
  },
  {
   "cell_type": "code",
   "execution_count": 11,
   "id": "b188e2b0-981b-477d-a7a3-200842f5cc93",
   "metadata": {},
   "outputs": [
    {
     "name": "stdout",
     "output_type": "stream",
     "text": [
      "{'beta_categorical': 1.0, 'beta_hinge': 1.0, 'beta_lqp': 1.0, 'beta_multiplier': 1.5, 'beta_threshold': 1.0, 'clamp': True, 'class_weights': 100, 'convergence_tolerance': 2e-06, 'feature_types': ['linear', 'hinge', 'product'], 'n_cpus': 32, 'n_hinge_features': 10, 'n_lambdas': 100, 'n_threshold_features': 10, 'scorer': 'roc_auc', 'tau': 0.5, 'transform': 'logistic', 'use_lambdas': 'best', 'use_sklearn': True}\n"
     ]
    }
   ],
   "source": [
    "# write model input data to csv\n",
    "train.to_csv(os.path.join(exp_path, train_input_data_name))\n",
    "\n",
    "# split the x/y data\n",
    "x_train = train.drop(columns=['class', 'geometry'])\n",
    "y_train = train['class']\n",
    "\n",
    "# train the model\n",
    "model_train = ela.MaxentModel(transform='logistic', beta_multiplier=1.5)\n",
    "print(model_train.get_params())\n",
    "model_train.fit(x_train, y_train)\n",
    "\n",
    "# write the fitted model to file\n",
    "ela.save_object(model_train, os.path.join(exp_path, run_name))"
   ]
  },
  {
   "cell_type": "code",
   "execution_count": 12,
   "id": "90ba25d5-500f-4ae3-9f10-6cf41f92ed07",
   "metadata": {},
   "outputs": [],
   "source": [
    "# predict the model\n",
    "y_train_predict = model_train.predict(x_train)\n",
    "\n",
    "# save the environment variables and model predictions to xarray.Dataset\n",
    "array = training_output.isel(band=0).to_array().values\n",
    "nodata = np.nan\n",
    "nodata_idx = np.isnan(array)\n",
    "rop = ela.geo.apply_model_to_array(model_train, array, nodata, nodata_idx)\n",
    "\n",
    "training_output['rop'] = (('band', 'y', 'x'), rop)\n",
    "training_output['rop'].attrs['long_name'] = \"relative occurrence probability\"\n",
    "\n",
    "# write model output to netcdf\n",
    "training_output.to_netcdf(os.path.join(exp_path, nc_name))\n",
    "\n",
    "# write model predictions to raster\n",
    "ela.apply_model_to_rasters(model_train, raster_paths, os.path.join(exp_path, raster_name), quiet=True)"
   ]
  },
  {
   "cell_type": "code",
   "execution_count": 13,
   "id": "88d4693e-7362-425b-bcdd-8ffa309932a4",
   "metadata": {},
   "outputs": [
    {
     "name": "stdout",
     "output_type": "stream",
     "text": [
      "Training ROC-AUC score: 0.980\n",
      "PR-AUC Score: 0.474\n"
     ]
    }
   ],
   "source": [
    "# model training performance\n",
    "\n",
    "# ROC-curve\n",
    "# fpr_train, tpr_train, thresholds = metrics.roc_curve(y_train, y_train_predict)\n",
    "auc_train = metrics.roc_auc_score(y_train, y_train_predict)\n",
    "\n",
    "# PR-curve\n",
    "precision_train, recall_train, _= metrics.precision_recall_curve(y_train, y_train_predict) \n",
    "pr_auc_train = metrics.auc(recall_train, precision_train)\n",
    "\n",
    "print(f\"Training ROC-AUC score: {auc_train:0.3f}\")\n",
    "print(f\"PR-AUC Score: {pr_auc_train:0.3f}\")"
   ]
  },
  {
   "cell_type": "code",
   "execution_count": 14,
   "id": "afa69830-5a2b-4fc0-8335-2b5eeab47958",
   "metadata": {},
   "outputs": [],
   "source": [
    "# fig, ax = plt.subplots(ncols=3, figsize=(18,6),constrained_layout=True)\n",
    "\n",
    "# ax[0].hist(y_train_predict[y_train==0], bins=np.linspace(0,1,int((y_train==0).sum()/100 + 1)), density=True, color='tab:red', alpha=0.7, label='pseudo-absence')\n",
    "# ax[0].hist(y_train_predict[y_train==1], bins=np.linspace(0,1,int((y_train==1).sum()/10+1)), density=True, color='tab:green', alpha=0.7, label='presence')\n",
    "\n",
    "# ax[0].set_xlabel('Relative Occurrence Probability')\n",
    "# ax[0].set_ylabel('Counts')\n",
    "# ax[0].set_title('Probability Distribution')\n",
    "\n",
    "# ax[0].legend(loc='upper right')\n",
    "\n",
    "# ax[1].plot([0, 1], [0, 1], '--', label=f'AUC score: 0.5 (No Skill)', color='gray')\n",
    "# ax[1].text(0.4, 0.4, 'random classifier', fontsize=12, color='gray',\n",
    "#            rotation=45, rotation_mode='anchor', horizontalalignment='left',\n",
    "#            verticalalignment='bottom',transform=ax[1].transAxes)\n",
    "\n",
    "# ax[1].plot([0, 0, 1], [0, 1, 1], '--', label=f'AUC score: 1 (Ideal Model)', color='tab:blue', zorder=-1)\n",
    "# ax[1].text(0, 1, '  perfect classifier', fontsize=12, color='tab:blue', \n",
    "#            horizontalalignment='left', verticalalignment='bottom')\n",
    "# ax[1].scatter(0, 1, marker='*', s=100, color='tab:blue')\n",
    "\n",
    "# ax[1].plot(fpr_train, tpr_train, label=f'AUC score: {auc_train:0.3f}', color='tab:orange')\n",
    "# ax[1].axis('equal')\n",
    "# ax[1].set_xlabel('False Positive Rate')\n",
    "# ax[1].set_ylabel('True Positive Rate')\n",
    "# ax[1].set_title('MaxEnt ROC Curve')\n",
    "# ax[1].legend(loc='lower right')\n",
    "\n",
    "# ax[2].plot([0, 1], [0.5, 0.5], '--', color='gray', label=f'AUC score: 0.5 (No Skill)')\n",
    "# ax[2].text(0.5, 0.52, 'random classifier', fontsize=12, color='gray',\n",
    "#            horizontalalignment='center', verticalalignment='center')\n",
    "# ax[2].plot([0, 1, 1], [1, 1, 0], '--', label=f'AUC score: 1 (Ideal Model)', color='tab:blue', zorder=-1)\n",
    "# ax[2].text(1, 1, 'perfect classifier  ', fontsize=12, color='tab:blue', \n",
    "#            horizontalalignment='right', verticalalignment='bottom')\n",
    "# ax[2].scatter(1, 1, marker='*', s=100, color='tab:blue')\n",
    "\n",
    "# ax[2].plot(recall_train, precision_train, label=f'AUC score: {pr_auc_train:0.3f}', color='tab:orange')\n",
    "# ax[2].axis('equal')\n",
    "# ax[2].set_xlabel('Recall')\n",
    "# ax[2].set_ylabel('Precision')\n",
    "# ax[2].set_title('MaxEnt PR Curve')\n",
    "# ax[2].legend(loc='lower left')\n"
   ]
  },
  {
   "cell_type": "markdown",
   "id": "c993984c-f068-4953-8a73-841a09f30b72",
   "metadata": {},
   "source": [
    "## 2. Predict model for region of interest"
   ]
  },
  {
   "cell_type": "markdown",
   "id": "674151b7-99a5-43e3-9220-ff76066070cf",
   "metadata": {},
   "source": [
    "### 2.1 load test data"
   ]
  },
  {
   "cell_type": "code",
   "execution_count": 15,
   "id": "b22c5392-3677-4518-8cba-4375bb9e36f9",
   "metadata": {},
   "outputs": [],
   "source": [
    "rasters, labels = (['srtm_%s.tif' %interest], ['srtm']) if topo else ([], []) # 'ndvi_east-asia.tif', 'ndvi' # \n",
    "for no in bioclim:\n",
    "    rasters.append('wc2.1_10m_bio_%s_%s.tif' %(no, interest))\n",
    "    labels.append('bioclim_%02d' %no)\n",
    "\n",
    "raster_paths = [os.path.join(input_path, 'test', raster) for raster in rasters]\n",
    "\n",
    "# initialise dataset for model output\n",
    "test_output = xr.Dataset()\n",
    "for raster, label in zip(raster_paths, labels):\n",
    "    da = rioxr.open_rasterio(raster, masked=True)\n",
    "    test_output[label] = da"
   ]
  },
  {
   "cell_type": "code",
   "execution_count": 16,
   "id": "89635dc6-33a8-4211-9b49-355940d49921",
   "metadata": {},
   "outputs": [],
   "source": [
    "presence_file_name = '%s_presence_%s.csv' %(specie, interest)\n",
    "background_file_name = '%s_background_%s_%s.csv' %(specie, pseudoabsence, interest)\n",
    "test_input_data_name = 'model-test_input-data_%s_%s_%s.csv' %(specie, pseudoabsence, interest)\n",
    "\n",
    "presence_csv = pd.read_csv(os.path.join(input_path, 'test', presence_file_name))\n",
    "geometry = gpd.points_from_xy(presence_csv['lon'], presence_csv['lat'])\n",
    "presence_gdf = gpd.GeoDataFrame(geometry=geometry, crs='EPSG:4326')\n",
    "\n",
    "background_csv = pd.read_csv(os.path.join(input_path, 'test', background_file_name))\n",
    "geometry = gpd.points_from_xy(background_csv['lon'], background_csv['lat'])\n",
    "background_gdf = gpd.GeoDataFrame(geometry=geometry, crs='EPSG:4326')"
   ]
  },
  {
   "cell_type": "code",
   "execution_count": 17,
   "id": "f3d79056-5e1e-4ac8-b2ad-94748ef3be84",
   "metadata": {},
   "outputs": [],
   "source": [
    "if len(presence_gdf) == 0:\n",
    "    print('There are no occurrences of this specie in this region!')\n",
    "    # chose arbitrary coordinate to make the code run\n",
    "    presence_gdf.geometry=gpd.points_from_xy([115], [0])"
   ]
  },
  {
   "cell_type": "code",
   "execution_count": 18,
   "id": "1aefb62e-ee35-45b2-bcd6-086b9b8afbb2",
   "metadata": {},
   "outputs": [
    {
     "data": {
      "application/vnd.jupyter.widget-view+json": {
       "model_id": "63ce58796cb54892b0d7df5135a6af9c",
       "version_major": 2,
       "version_minor": 0
      },
      "text/plain": [
       "Raster:   0%|                              | 0/20 [00:00<?, ?it/s]"
      ]
     },
     "metadata": {},
     "output_type": "display_data"
    },
    {
     "data": {
      "application/vnd.jupyter.widget-view+json": {
       "model_id": "6be4db257e4f413985d2e64f26a6b323",
       "version_major": 2,
       "version_minor": 0
      },
      "text/plain": [
       "Sample:   0%|                              | 0/11 [00:00<?, ?it/s]"
      ]
     },
     "metadata": {},
     "output_type": "display_data"
    },
    {
     "data": {
      "application/vnd.jupyter.widget-view+json": {
       "model_id": "47a21f4c77884c44859793584a4b08e4",
       "version_major": 2,
       "version_minor": 0
      },
      "text/plain": [
       "Sample:   0%|                              | 0/11 [00:00<?, ?it/s]"
      ]
     },
     "metadata": {},
     "output_type": "display_data"
    },
    {
     "data": {
      "application/vnd.jupyter.widget-view+json": {
       "model_id": "99dd685e8bff4818afba72be686ea335",
       "version_major": 2,
       "version_minor": 0
      },
      "text/plain": [
       "Sample:   0%|                              | 0/11 [00:00<?, ?it/s]"
      ]
     },
     "metadata": {},
     "output_type": "display_data"
    },
    {
     "data": {
      "application/vnd.jupyter.widget-view+json": {
       "model_id": "2c0ef29a8e1a471794823d6e2952388b",
       "version_major": 2,
       "version_minor": 0
      },
      "text/plain": [
       "Sample:   0%|                              | 0/11 [00:00<?, ?it/s]"
      ]
     },
     "metadata": {},
     "output_type": "display_data"
    },
    {
     "data": {
      "application/vnd.jupyter.widget-view+json": {
       "model_id": "e6de50c838af48a7ad10833280f0f1a1",
       "version_major": 2,
       "version_minor": 0
      },
      "text/plain": [
       "Sample:   0%|                              | 0/11 [00:00<?, ?it/s]"
      ]
     },
     "metadata": {},
     "output_type": "display_data"
    },
    {
     "data": {
      "application/vnd.jupyter.widget-view+json": {
       "model_id": "08529dda146848a48f3bb1fbb61a0dc2",
       "version_major": 2,
       "version_minor": 0
      },
      "text/plain": [
       "Sample:   0%|                              | 0/11 [00:00<?, ?it/s]"
      ]
     },
     "metadata": {},
     "output_type": "display_data"
    },
    {
     "data": {
      "application/vnd.jupyter.widget-view+json": {
       "model_id": "85a74da0f1c640eaa9b695097e847f14",
       "version_major": 2,
       "version_minor": 0
      },
      "text/plain": [
       "Sample:   0%|                              | 0/11 [00:00<?, ?it/s]"
      ]
     },
     "metadata": {},
     "output_type": "display_data"
    },
    {
     "data": {
      "application/vnd.jupyter.widget-view+json": {
       "model_id": "b723e1a26ce648a3b4ebd8aeda7c4a71",
       "version_major": 2,
       "version_minor": 0
      },
      "text/plain": [
       "Sample:   0%|                              | 0/11 [00:00<?, ?it/s]"
      ]
     },
     "metadata": {},
     "output_type": "display_data"
    },
    {
     "data": {
      "application/vnd.jupyter.widget-view+json": {
       "model_id": "b860b7ba603144cbbe23201047f471f4",
       "version_major": 2,
       "version_minor": 0
      },
      "text/plain": [
       "Sample:   0%|                              | 0/11 [00:00<?, ?it/s]"
      ]
     },
     "metadata": {},
     "output_type": "display_data"
    },
    {
     "data": {
      "application/vnd.jupyter.widget-view+json": {
       "model_id": "10e647c9fdde42bda983ba3e62fa1ac5",
       "version_major": 2,
       "version_minor": 0
      },
      "text/plain": [
       "Sample:   0%|                              | 0/11 [00:00<?, ?it/s]"
      ]
     },
     "metadata": {},
     "output_type": "display_data"
    },
    {
     "data": {
      "application/vnd.jupyter.widget-view+json": {
       "model_id": "016961b3f6c24a1c818a31fc68a03c5d",
       "version_major": 2,
       "version_minor": 0
      },
      "text/plain": [
       "Sample:   0%|                              | 0/11 [00:00<?, ?it/s]"
      ]
     },
     "metadata": {},
     "output_type": "display_data"
    },
    {
     "data": {
      "application/vnd.jupyter.widget-view+json": {
       "model_id": "742f6d80995649b8b1bbd90e61b5adb9",
       "version_major": 2,
       "version_minor": 0
      },
      "text/plain": [
       "Sample:   0%|                              | 0/11 [00:00<?, ?it/s]"
      ]
     },
     "metadata": {},
     "output_type": "display_data"
    },
    {
     "data": {
      "application/vnd.jupyter.widget-view+json": {
       "model_id": "71b10af92f4f47aaaeffaf66ad35bf48",
       "version_major": 2,
       "version_minor": 0
      },
      "text/plain": [
       "Sample:   0%|                              | 0/11 [00:00<?, ?it/s]"
      ]
     },
     "metadata": {},
     "output_type": "display_data"
    },
    {
     "data": {
      "application/vnd.jupyter.widget-view+json": {
       "model_id": "d3822f464d0c4eddbde9e25de94e2559",
       "version_major": 2,
       "version_minor": 0
      },
      "text/plain": [
       "Sample:   0%|                              | 0/11 [00:00<?, ?it/s]"
      ]
     },
     "metadata": {},
     "output_type": "display_data"
    },
    {
     "data": {
      "application/vnd.jupyter.widget-view+json": {
       "model_id": "a53785bb41f54cf6b8d3f8345bb01732",
       "version_major": 2,
       "version_minor": 0
      },
      "text/plain": [
       "Sample:   0%|                              | 0/11 [00:00<?, ?it/s]"
      ]
     },
     "metadata": {},
     "output_type": "display_data"
    },
    {
     "data": {
      "application/vnd.jupyter.widget-view+json": {
       "model_id": "a48dd2abd1204d4dbdaebcdf7aeaaef1",
       "version_major": 2,
       "version_minor": 0
      },
      "text/plain": [
       "Sample:   0%|                              | 0/11 [00:00<?, ?it/s]"
      ]
     },
     "metadata": {},
     "output_type": "display_data"
    },
    {
     "data": {
      "application/vnd.jupyter.widget-view+json": {
       "model_id": "f49465e96e2a4fa8b3eecffe2e7fe9e3",
       "version_major": 2,
       "version_minor": 0
      },
      "text/plain": [
       "Sample:   0%|                              | 0/11 [00:00<?, ?it/s]"
      ]
     },
     "metadata": {},
     "output_type": "display_data"
    },
    {
     "data": {
      "application/vnd.jupyter.widget-view+json": {
       "model_id": "43c5a270d9c249abbbfc1c0dbc14cf56",
       "version_major": 2,
       "version_minor": 0
      },
      "text/plain": [
       "Sample:   0%|                              | 0/11 [00:00<?, ?it/s]"
      ]
     },
     "metadata": {},
     "output_type": "display_data"
    },
    {
     "data": {
      "application/vnd.jupyter.widget-view+json": {
       "model_id": "60b9281c01cd474bafe623366d73c25d",
       "version_major": 2,
       "version_minor": 0
      },
      "text/plain": [
       "Sample:   0%|                              | 0/11 [00:00<?, ?it/s]"
      ]
     },
     "metadata": {},
     "output_type": "display_data"
    },
    {
     "data": {
      "application/vnd.jupyter.widget-view+json": {
       "model_id": "07d2a561334547898e660d97a0315b2d",
       "version_major": 2,
       "version_minor": 0
      },
      "text/plain": [
       "Sample:   0%|                              | 0/11 [00:00<?, ?it/s]"
      ]
     },
     "metadata": {},
     "output_type": "display_data"
    },
    {
     "data": {
      "application/vnd.jupyter.widget-view+json": {
       "model_id": "2693cbfa92d94abdace0ff88941b0b97",
       "version_major": 2,
       "version_minor": 0
      },
      "text/plain": [
       "Raster:   0%|                              | 0/20 [00:00<?, ?it/s]"
      ]
     },
     "metadata": {},
     "output_type": "display_data"
    },
    {
     "data": {
      "application/vnd.jupyter.widget-view+json": {
       "model_id": "cf08ec9c0d644f8dacc7e6fa00e23ca8",
       "version_major": 2,
       "version_minor": 0
      },
      "text/plain": [
       "Sample:   0%|                              | 0/10000 [00:00<?, ?it/s]"
      ]
     },
     "metadata": {},
     "output_type": "display_data"
    },
    {
     "data": {
      "application/vnd.jupyter.widget-view+json": {
       "model_id": "8bcedc130fdb4ae0823e840ad35c2ce8",
       "version_major": 2,
       "version_minor": 0
      },
      "text/plain": [
       "Sample:   0%|                              | 0/10000 [00:00<?, ?it/s]"
      ]
     },
     "metadata": {},
     "output_type": "display_data"
    },
    {
     "data": {
      "application/vnd.jupyter.widget-view+json": {
       "model_id": "e787fbab6a2b49c98ec365d90d63e595",
       "version_major": 2,
       "version_minor": 0
      },
      "text/plain": [
       "Sample:   0%|                              | 0/10000 [00:00<?, ?it/s]"
      ]
     },
     "metadata": {},
     "output_type": "display_data"
    },
    {
     "data": {
      "application/vnd.jupyter.widget-view+json": {
       "model_id": "e9eaf74ed8544a4db887e10763bd80df",
       "version_major": 2,
       "version_minor": 0
      },
      "text/plain": [
       "Sample:   0%|                              | 0/10000 [00:00<?, ?it/s]"
      ]
     },
     "metadata": {},
     "output_type": "display_data"
    },
    {
     "data": {
      "application/vnd.jupyter.widget-view+json": {
       "model_id": "0e0e27d045ae4fb18e49eaed319ad882",
       "version_major": 2,
       "version_minor": 0
      },
      "text/plain": [
       "Sample:   0%|                              | 0/10000 [00:00<?, ?it/s]"
      ]
     },
     "metadata": {},
     "output_type": "display_data"
    },
    {
     "data": {
      "application/vnd.jupyter.widget-view+json": {
       "model_id": "87f967532ca948f59fedac43d46808b5",
       "version_major": 2,
       "version_minor": 0
      },
      "text/plain": [
       "Sample:   0%|                              | 0/10000 [00:00<?, ?it/s]"
      ]
     },
     "metadata": {},
     "output_type": "display_data"
    },
    {
     "data": {
      "application/vnd.jupyter.widget-view+json": {
       "model_id": "721b84582fdf4e61992dd099ed59316b",
       "version_major": 2,
       "version_minor": 0
      },
      "text/plain": [
       "Sample:   0%|                              | 0/10000 [00:00<?, ?it/s]"
      ]
     },
     "metadata": {},
     "output_type": "display_data"
    },
    {
     "data": {
      "application/vnd.jupyter.widget-view+json": {
       "model_id": "1cc47ba4c3fe488bba86dd13791927e0",
       "version_major": 2,
       "version_minor": 0
      },
      "text/plain": [
       "Sample:   0%|                              | 0/10000 [00:00<?, ?it/s]"
      ]
     },
     "metadata": {},
     "output_type": "display_data"
    },
    {
     "data": {
      "application/vnd.jupyter.widget-view+json": {
       "model_id": "b1023919daee457bb17768c6981a63e2",
       "version_major": 2,
       "version_minor": 0
      },
      "text/plain": [
       "Sample:   0%|                              | 0/10000 [00:00<?, ?it/s]"
      ]
     },
     "metadata": {},
     "output_type": "display_data"
    },
    {
     "data": {
      "application/vnd.jupyter.widget-view+json": {
       "model_id": "999e2eead4bc4dafb6ed48a5ddcc8cb8",
       "version_major": 2,
       "version_minor": 0
      },
      "text/plain": [
       "Sample:   0%|                              | 0/10000 [00:00<?, ?it/s]"
      ]
     },
     "metadata": {},
     "output_type": "display_data"
    },
    {
     "data": {
      "application/vnd.jupyter.widget-view+json": {
       "model_id": "25310c4a3a7e44ad961ddf328512799a",
       "version_major": 2,
       "version_minor": 0
      },
      "text/plain": [
       "Sample:   0%|                              | 0/10000 [00:00<?, ?it/s]"
      ]
     },
     "metadata": {},
     "output_type": "display_data"
    },
    {
     "data": {
      "application/vnd.jupyter.widget-view+json": {
       "model_id": "08d9321e48344528972866536514c789",
       "version_major": 2,
       "version_minor": 0
      },
      "text/plain": [
       "Sample:   0%|                              | 0/10000 [00:00<?, ?it/s]"
      ]
     },
     "metadata": {},
     "output_type": "display_data"
    },
    {
     "data": {
      "application/vnd.jupyter.widget-view+json": {
       "model_id": "e4ff8d003d664d118d82385f5807d9fe",
       "version_major": 2,
       "version_minor": 0
      },
      "text/plain": [
       "Sample:   0%|                              | 0/10000 [00:00<?, ?it/s]"
      ]
     },
     "metadata": {},
     "output_type": "display_data"
    },
    {
     "data": {
      "application/vnd.jupyter.widget-view+json": {
       "model_id": "b83a2ef3a0f542e082b26b522c5d833a",
       "version_major": 2,
       "version_minor": 0
      },
      "text/plain": [
       "Sample:   0%|                              | 0/10000 [00:00<?, ?it/s]"
      ]
     },
     "metadata": {},
     "output_type": "display_data"
    },
    {
     "data": {
      "application/vnd.jupyter.widget-view+json": {
       "model_id": "1ebffece07cb4af3b9698c67d92f26cc",
       "version_major": 2,
       "version_minor": 0
      },
      "text/plain": [
       "Sample:   0%|                              | 0/10000 [00:00<?, ?it/s]"
      ]
     },
     "metadata": {},
     "output_type": "display_data"
    },
    {
     "data": {
      "application/vnd.jupyter.widget-view+json": {
       "model_id": "5e9e8cadd06a42e9a640940c736eb79b",
       "version_major": 2,
       "version_minor": 0
      },
      "text/plain": [
       "Sample:   0%|                              | 0/10000 [00:00<?, ?it/s]"
      ]
     },
     "metadata": {},
     "output_type": "display_data"
    },
    {
     "data": {
      "application/vnd.jupyter.widget-view+json": {
       "model_id": "ad5cfd42c9514d43b07ee617365a5d2a",
       "version_major": 2,
       "version_minor": 0
      },
      "text/plain": [
       "Sample:   0%|                              | 0/10000 [00:00<?, ?it/s]"
      ]
     },
     "metadata": {},
     "output_type": "display_data"
    },
    {
     "data": {
      "application/vnd.jupyter.widget-view+json": {
       "model_id": "5696966e618a480c8b409a47242a959e",
       "version_major": 2,
       "version_minor": 0
      },
      "text/plain": [
       "Sample:   0%|                              | 0/10000 [00:00<?, ?it/s]"
      ]
     },
     "metadata": {},
     "output_type": "display_data"
    },
    {
     "data": {
      "application/vnd.jupyter.widget-view+json": {
       "model_id": "37702f4341e84bea8f84d5dcd0a5b264",
       "version_major": 2,
       "version_minor": 0
      },
      "text/plain": [
       "Sample:   0%|                              | 0/10000 [00:00<?, ?it/s]"
      ]
     },
     "metadata": {},
     "output_type": "display_data"
    },
    {
     "data": {
      "application/vnd.jupyter.widget-view+json": {
       "model_id": "58fbc1192076449997c67f807ffbdd8e",
       "version_major": 2,
       "version_minor": 0
      },
      "text/plain": [
       "Sample:   0%|                              | 0/10000 [00:00<?, ?it/s]"
      ]
     },
     "metadata": {},
     "output_type": "display_data"
    }
   ],
   "source": [
    "presence_test = ela.annotate(\n",
    "    presence_gdf.geometry,\n",
    "    raster_paths=raster_paths, \n",
    "    labels=labels, \n",
    "    drop_na=True,\n",
    ")\n",
    "\n",
    "background_test = ela.annotate(\n",
    "    background_gdf, #pseudoabsence_random, pseudoabsence_bias_eucalyptus, #pseudoabsence_bias_perc_planted\n",
    "    raster_paths=raster_paths, \n",
    "    labels=labels, \n",
    "    drop_na=True,\n",
    ")\n",
    "\n",
    "test = ela.stack_geodataframes(\n",
    "    presence_test,\n",
    "    background_test,\n",
    "    add_class_label=True,\n",
    ")\n",
    "\n",
    "test.to_csv(os.path.join(exp_path, test_input_data_name))"
   ]
  },
  {
   "cell_type": "markdown",
   "id": "4e6f67ff-84d7-4e34-8b2d-b7740f6f49b8",
   "metadata": {},
   "source": [
    "### 2.2 model predict for region of interest/ test data"
   ]
  },
  {
   "cell_type": "code",
   "execution_count": 19,
   "id": "643b889a-5e5b-4a94-9b91-d26f10453687",
   "metadata": {},
   "outputs": [],
   "source": [
    "nc_name = 'model-test_%s_%s_%s.nc' %(specie, pseudoabsence, interest)\n",
    "raster_name = 'model-test_%s_%s_%s.tif' %(specie, pseudoabsence, interest)"
   ]
  },
  {
   "cell_type": "code",
   "execution_count": 20,
   "id": "37cd517e-431b-42ce-8bdd-d84205318c69",
   "metadata": {},
   "outputs": [],
   "source": [
    "# split the x/y data\n",
    "x_test = test.drop(columns=['class', 'geometry'])\n",
    "y_test = test['class']\n",
    "\n",
    "# predict the model for the test data\n",
    "y_test_predict = model_train.predict(x_test)\n",
    "\n",
    "# save the environment variables and model predictions to xarray.Dataset\n",
    "array = test_output.isel(band=0).to_array().values\n",
    "nodata = np.nan\n",
    "nodata_idx = np.isnan(array)\n",
    "rop = ela.geo.apply_model_to_array(model_train, array, nodata, nodata_idx)\n",
    "\n",
    "test_output['rop'] = (('band', 'y', 'x'), rop)\n",
    "test_output['rop'].attrs['long_name'] = \"relative occurrence probability\"\n",
    "\n",
    "# write model output to netcdf\n",
    "test_output.to_netcdf(os.path.join(exp_path, nc_name))\n",
    "\n",
    "# write model predictions to raster\n",
    "ela.apply_model_to_rasters(model_train, raster_paths, os.path.join(exp_path, raster_name), quiet=True)"
   ]
  },
  {
   "cell_type": "markdown",
   "id": "68e9a5b5-2e20-495c-b74c-a43cd01dcf61",
   "metadata": {},
   "source": [
    "### 2.3 test data performance"
   ]
  },
  {
   "cell_type": "code",
   "execution_count": 21,
   "id": "179b6561-543d-46cf-8167-878dd0f0bc9c",
   "metadata": {},
   "outputs": [
    {
     "name": "stdout",
     "output_type": "stream",
     "text": [
      "Training ROC-AUC score: 0.980\n",
      "Training PR-AUC Score: 0.474\n",
      "Test ROC-AUC score: 0.624\n",
      "Test PR-AUC Score: 0.002\n"
     ]
    }
   ],
   "source": [
    "# ROC-curve\n",
    "# fpr_test, tpr_test, _ = metrics.roc_curve(y_test, y_test_predict)\n",
    "auc_test = metrics.roc_auc_score(y_test, y_test_predict)\n",
    "\n",
    "# PR-curve\n",
    "precision_test, recall_test, _= metrics.precision_recall_curve(y_test, y_test_predict) \n",
    "pr_auc_test = metrics.auc(recall_test, precision_test)\n",
    "\n",
    "print(f\"Training ROC-AUC score: {auc_train:0.3f}\")\n",
    "print(f\"Training PR-AUC Score: {pr_auc_train:0.3f}\")\n",
    "\n",
    "print(f\"Test ROC-AUC score: {auc_test:0.3f}\")\n",
    "print(f\"Test PR-AUC Score: {pr_auc_test:0.3f}\")"
   ]
  },
  {
   "cell_type": "code",
   "execution_count": 22,
   "id": "26816dd3-27ba-44fe-9c6a-ea8412e49345",
   "metadata": {},
   "outputs": [],
   "source": [
    "# fig, ax = plt.subplots(ncols=3, figsize=(18,6),constrained_layout=True)\n",
    "\n",
    "# # \n",
    "# ax[0].hist(y_test_predict[y_test==0], bins=np.linspace(0,1,int((y_test==0).sum()/100 + 1)), density=True, color='tab:red', alpha=0.7, label='pseudo-absence')\n",
    "# ax[0].hist(y_test_predict[y_test==1], bins=np.linspace(0,1,int((y_test==1).sum()/10+1)), density=True, color='tab:green', alpha=0.7, label='presence')\n",
    "\n",
    "# ax[0].set_xlabel('Relative Occurrence Probability')\n",
    "# ax[0].set_ylabel('Counts')\n",
    "# ax[0].set_title('Probability Distribution')\n",
    "\n",
    "# ax[0].legend(loc='upper right')\n",
    "\n",
    "# ax[1].plot([0, 1], [0, 1], '--', label=f'AUC score: 0.5 (No Skill)', color='gray')\n",
    "# ax[1].text(0.4, 0.4, 'random classifier', fontsize=12, color='gray',\n",
    "#            rotation=45, rotation_mode='anchor', horizontalalignment='left',\n",
    "#            verticalalignment='bottom',transform=ax[1].transAxes)\n",
    "\n",
    "# ax[1].plot([0, 0, 1], [0, 1, 1], '--', label=f'AUC score: 1 (Ideal Model)', color='tab:blue', zorder=-1)\n",
    "# ax[1].text(0, 1, '  perfect classifier', fontsize=12, color='tab:blue', \n",
    "#            horizontalalignment='left', verticalalignment='bottom')\n",
    "# ax[1].scatter(0, 1, marker='*', s=100, color='tab:blue')\n",
    "\n",
    "# ax[1].plot(fpr_train, tpr_train, label=f'AUC train score: {auc_train:0.3f}', color='tab:orange')\n",
    "# ax[1].plot(fpr_test, tpr_test, label=f'AUC test score: {auc_test:0.3f}', color='tab:green')\n",
    "\n",
    "# ax[1].axis('equal')\n",
    "# ax[1].set_xlabel('False Positive Rate')\n",
    "# ax[1].set_ylabel('True Positive Rate')\n",
    "# ax[1].set_title('MaxEnt ROC Curve')\n",
    "# ax[1].legend(loc='lower right')\n",
    "\n",
    "# ## \n",
    "# ax[2].plot([0, 1], [0.5, 0.5], '--', color='gray', label=f'AUC score: 0.5 (No Skill)')\n",
    "# ax[2].text(0.5, 0.52, 'random classifier', fontsize=12, color='gray',\n",
    "#            horizontalalignment='center', verticalalignment='center')\n",
    "# ax[2].plot([0, 1, 1], [1, 1, 0], '--', label=f'AUC score: 1 (Ideal Model)', color='tab:blue', zorder=-1)\n",
    "# ax[2].text(1, 1, 'perfect classifier  ', fontsize=12, color='tab:blue', \n",
    "#            horizontalalignment='right', verticalalignment='bottom')\n",
    "# ax[2].scatter(1, 1, marker='*', s=100, color='tab:blue')\n",
    "\n",
    "\n",
    "# ax[2].plot(recall_train, precision_train, label=f'AUC train score: {pr_auc_train:0.3f}', color='tab:orange')\n",
    "# ax[2].plot(recall_test, precision_test, label=f'AUC test score: {pr_auc_test:0.3f}', color='tab:green')\n",
    "\n",
    "# ax[2].axis('equal')\n",
    "# ax[2].set_xlabel('Recall')\n",
    "# ax[2].set_ylabel('Precision')\n",
    "# ax[2].set_title('MaxEnt PR Curve')\n",
    "# ax[2].legend(loc='lower left')\n"
   ]
  },
  {
   "cell_type": "code",
   "execution_count": 41,
   "id": "c6f1e0dc-05c9-4a65-809f-42b1055ff5d3",
   "metadata": {},
   "outputs": [
    {
     "data": {
      "image/png": "[encoded data removed]",
      "text/plain": [
       "<Figure size 1800x800 with 3 Axes>"
      ]
     },
     "metadata": {},
     "output_type": "display_data"
    }
   ],
   "source": [
    "doc=False\n",
    "\n",
    "fig, ax = plt.subplots(1, 2, figsize=(18, 8), constrained_layout=True) #dpi=100\n",
    "\n",
    "cmap = plt.cm.GnBu #'GnBu'\n",
    "bounds = np.linspace(0, 1, 11)\n",
    "norm = mcolors.BoundaryNorm(bounds, cmap.N)\n",
    "\n",
    "# pcol = train_out.plot(ax=ax[0], vmin=0, vmax=1, cmap='GnBu', add_colorbar=False)\n",
    "gdf_countries[training].plot(ax=ax[0], facecolor='lightgray', edgecolor='k')\n",
    "pcol = training_output.rop.plot(ax=ax[0], vmin=0, vmax=1, norm=norm, cmap=cmap, add_colorbar=False)\n",
    "presence_train.plot(ax=ax[0], color='tab:red', marker='*', label='presence-train')\n",
    "ax[0].text(0.98, 0.91, 'presence points: %s\\n pseudo-absence points: %s\\n AUC: %.3f' %(len(presence_train), len(background_train), auc_train), fontsize=12, \n",
    "           horizontalalignment='right', verticalalignment='top', transform=ax[0].transAxes)\n",
    "ax[0].legend(loc='upper right')\n",
    "ax[0].set_title('')\n",
    "ax[0].set_ylim([15, 60])\n",
    "\n",
    "gdf_countries[interest].plot(ax=ax[1], facecolor='lightgray', edgecolor='k')\n",
    "pcol = test_output.rop.plot(ax=ax[1], vmin=0, vmax=1, norm=norm, cmap=cmap, add_colorbar=False)\n",
    "presence_test.plot(ax=ax[1], color='tab:red', marker='*', label='presence-test')\n",
    "ax[1].text(0.98, 0.92, 'presence points: %s\\n pseudo-absence points: %s\\n AUC: %.3f' %(len(presence_test), len(background_test), auc_test), fontsize=12, \n",
    "           horizontalalignment='right', verticalalignment='top', transform=ax[1].transAxes)\n",
    "ax[1].legend()\n",
    "ax[1].set_title('')\n",
    "\n",
    "cbar = fig.colorbar(pcol, ax=ax, aspect=50, pad=0.05, label=\"relative occurrence probability\", orientation='horizontal', fraction=0.03)\n",
    "\n",
    "if doc:\n",
    "    ax[0].axis('off')\n",
    "    ax[1].axis('off')\n",
    "\n",
    "    if savefig:\n",
    "        fig.savefig(os.path.join(docs_path, '05_rel-occ-prob-_%s_%s.png' %(training, interest)), transparent=True, bbox_inches='tight')"
   ]
  },
  {
   "cell_type": "code",
   "execution_count": 24,
   "id": "761df818-12ae-4b6f-94f7-e9fcff96b575",
   "metadata": {},
   "outputs": [],
   "source": [
    "if savefig:\n",
    "    fig.savefig(os.path.join(figs_path, '05_rel-occ-prob-_%s_%s_%s.png' %(specie, training, interest)), transparent=True, bbox_inches='tight')"
   ]
  },
  {
   "cell_type": "code",
   "execution_count": 25,
   "id": "e1bf9622-87c1-4363-922d-04939e2028f3",
   "metadata": {},
   "outputs": [],
   "source": [
    "test_output.close()"
   ]
  },
  {
   "cell_type": "code",
   "execution_count": 26,
   "id": "7661b227-cb1d-4321-af25-78321d54bf54",
   "metadata": {},
   "outputs": [],
   "source": [
    "# cmap = plt.cm.GnBu #'GnBu'\n",
    "# bounds = np.linspace(0, 1, 5)\n",
    "# norm = mcolors.BoundaryNorm(bounds, cmap.N)\n",
    "\n",
    "# fig, ax = plt.subplots(figsize=(8,6))\n",
    "\n",
    "# gdf_countries[training].plot(ax=ax, facecolor='lightgray', edgecolor='k')\n",
    "# pcol = training_output.rop.plot(ax=ax, vmin=0, vmax=1, norm=norm, cmap=cmap, add_colorbar=False)\n",
    "# presence_train.plot(ax=ax, color='tab:orange', marker='*')\n",
    "\n",
    "# ax.set_title('')\n",
    "# ax.axis('off')\n",
    "# fig.colorbar(pcol, fraction=0.02)\n",
    "# fig.savefig(os.path.join(figs_path, '07_maxent-prob-occ_%s.png' %region), transparent=True, dpi=600)"
   ]
  }
 ],
 "metadata": {
  "kernelspec": {
   "display_name": "Python [conda env:aciar]",
   "language": "python",
   "name": "conda-env-aciar-py"
  },
  "language_info": {
   "codemirror_mode": {
    "name": "ipython",
    "version": 3
   },
   "file_extension": ".py",
   "mimetype": "text/x-python",
   "name": "python",
   "nbconvert_exporter": "python",
   "pygments_lexer": "ipython3",
   "version": "3.11.6"
  }
 },
 "nbformat": 4,
 "nbformat_minor": 5
}
